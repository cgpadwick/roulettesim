{
 "cells": [
  {
   "cell_type": "code",
   "execution_count": 1,
   "metadata": {},
   "outputs": [],
   "source": [
    "import numpy as np\n",
    "from roulette import *\n",
    "import strategies as strat\n",
    "import cProfile"
   ]
  },
  {
   "cell_type": "code",
   "execution_count": 2,
   "metadata": {},
   "outputs": [
    {
     "name": "stdout",
     "output_type": "stream",
     "text": [
      "[9, 4, 16, 5, 2, 14, 17, 13, 3, 3, 3, 18, 3, 5, 2, 18, 17, 14, 13, 4, 17, 18, 4, 18, 13, 6, 6, 15, 15, 3, 10, 10, 5, 11, 17, 17, 10, 5, 7, 10, 14, 12, 7, 8, 10, 3, 14, 4, 15, 19, 6, 19, 3, 8, 9, 6, 9, 3, 4, 19, 5, 6, 3, 3, 6, 10, 6, 3, 5, 9, 16, 11, 7, 13, 7, 15, 19, 9, 4, 4, 15, 14, 9, 7, 3, 12, 18, 14, 1, 11, 14, 11, 18, 8, 14, 4, 5, 18, 13, 8, 8, 8, 11]\n",
      "997\n",
      "103\n"
     ]
    }
   ],
   "source": [
    "min_bet = 5\n",
    "max_bet = 1000\n",
    "num_games = 1000\n",
    "num_spins = 100\n",
    "game_type = 'French'\n",
    "factory = strat.RouletteStrategyFactory(min_bet, max_bet)\n",
    "strategy = factory.get('Labouchere')"
   ]
  },
  {
   "cell_type": "code",
   "execution_count": null,
   "metadata": {},
   "outputs": [],
   "source": [
    "game_totals = []\n",
    "game_histories = []\n",
    "freq = defaultdict(int)\n",
    "redblack = defaultdict(int)\n",
    "runs = defaultdict(list)\n",
    "for x in range(num_games):\n",
    "    sim = RouletteSim(max_num_spins=num_spins,\n",
    "                      game_type=game_type,\n",
    "                      strategy=strategy,\n",
    "                      plot_results=False)\n",
    "    running_total, game_history = sim.play(freq=freq,\n",
    "                                           redblack=redblack,\n",
    "                                           runs=runs)\n",
    "    game_totals.append(running_total)\n",
    "    game_histories.append(game_history)"
   ]
  },
  {
   "cell_type": "markdown",
   "metadata": {},
   "source": [
    "## Plot the game totals"
   ]
  },
  {
   "cell_type": "code",
   "execution_count": null,
   "metadata": {},
   "outputs": [],
   "source": [
    "x = range(len(game_totals))\n",
    "plt.plot(x, game_totals, '-r', label='game_totals')\n",
    "plt.legend(loc=\"upper left\")\n",
    "plt.show()\n",
    "print(f'Sum of all Games: {np.sum(game_totals)}')\n",
    "pos = np.where(np.array(game_totals) >= 0)\n",
    "neg = np.where(np.array(game_totals) < 0)\n",
    "winning_games = np.array(game_totals)[pos[0]]\n",
    "losing_games = np.array(game_totals)[neg[0]]\n",
    "print(f'\\nWinning Games: {len(winning_games)}')\n",
    "print(f'mean: {winning_games.mean()}, std: {winning_games.std()}, min/max: {winning_games.min()}/{winning_games.max()}')\n",
    "\n",
    "print(f'\\nLosing Games: {len(losing_games)}')\n",
    "print(f'mean: {losing_games.mean()}, std: {losing_games.std()}, min/max: {losing_games.min()}/{losing_games.max()}')\n",
    "\n",
    "print(f'\\nWin Percentage: {len(winning_games) / len(game_totals) * 100}')\n",
    "print(f'Loss Percentage: {len(losing_games) / len(game_totals) * 100}')\n",
    "\n",
    "n, bins, patches = plt.hist(game_totals, bins='auto')\n",
    "plt.xlabel('Outcome in $')\n",
    "plt.ylabel('Number of Outcomes')\n",
    "plt.title(f'All Games: {len(game_totals)}')\n",
    "plt.show()\n",
    "\n",
    "n, bins, patches = plt.hist(winning_games, bins='auto')\n",
    "plt.xlabel('Outcome in $')\n",
    "plt.ylabel('Number of Outcomes')\n",
    "plt.title(f'Winning Games: {len(winning_games)}')\n",
    "plt.show()\n",
    "\n",
    "n, bins, patches = plt.hist(losing_games, bins='auto')\n",
    "plt.xlabel('Outcome in $')\n",
    "plt.ylabel('Number of Outcomes')\n",
    "plt.title(f'Losing Games: {len(losing_games)}')\n",
    "plt.show()"
   ]
  },
  {
   "cell_type": "markdown",
   "metadata": {},
   "source": [
    "### Plot the 5 Best Games and the 5 Worst Games"
   ]
  },
  {
   "cell_type": "code",
   "execution_count": null,
   "metadata": {},
   "outputs": [],
   "source": [
    "sorted_indices = np.argsort(game_totals)"
   ]
  },
  {
   "cell_type": "code",
   "execution_count": null,
   "metadata": {},
   "outputs": [],
   "source": [
    "# Plot the 5 worst games\n",
    "idx = np.array(sorted_indices[range(0, 5)])\n",
    "gt = np.array(game_totals)\n",
    "print(f'Worst Game Outcomes: {gt[idx]}')\n",
    "for i in range(0, 5):\n",
    "    strategy.plot_history(game_histories[sorted_indices[i]])"
   ]
  },
  {
   "cell_type": "code",
   "execution_count": null,
   "metadata": {},
   "outputs": [],
   "source": [
    "# Plot the 5 best games\n",
    "start = len(game_totals) - 1 - 5\n",
    "idx = np.array(sorted_indices[range(start, len(sorted_indices))])\n",
    "gt = np.array(game_totals)\n",
    "print(f'Best Game Outcomes: {gt[idx]}')\n",
    "for i in range(start, len(game_totals)):\n",
    "    strategy.plot_history(game_histories[sorted_indices[i]])\n"
   ]
  },
  {
   "cell_type": "code",
   "execution_count": null,
   "metadata": {},
   "outputs": [],
   "source": [
    "del game_histories"
   ]
  },
  {
   "cell_type": "markdown",
   "metadata": {},
   "source": [
    "## Make a Histogram of the wins and losses"
   ]
  },
  {
   "cell_type": "code",
   "execution_count": null,
   "metadata": {},
   "outputs": [],
   "source": []
  },
  {
   "cell_type": "markdown",
   "metadata": {},
   "source": [
    "### Plot the Win/Loss Streaks"
   ]
  },
  {
   "cell_type": "code",
   "execution_count": null,
   "metadata": {},
   "outputs": [],
   "source": [
    "win_run_histo, _ = np.histogram(runs['win'], bins=num_spins, range=(1, num_spins))\n",
    "loss_run_histo, _ = np.histogram(runs['loss'], bins=num_spins, range=(1, num_spins))\n",
    "bins = range(1, num_spins + 1)\n",
    "max_win_streak = find_max_nonzero_bin(win_run_histo, bins)\n",
    "max_loss_streak = find_max_nonzero_bin(loss_run_histo, bins)\n",
    "max_streak = max(max_loss_streak, max_win_streak)\n",
    "\n",
    "fig, ax = plt.subplots(2, 1)\n",
    "ax[0].bar(bins, win_run_histo, align='center', label='wins')\n",
    "ax[0].set_xlim(1, max_streak)\n",
    "ax[0].legend(loc=\"upper left\")\n",
    "ax[1].bar(bins, loss_run_histo, align='center', label='losses')\n",
    "ax[1].set_xlim(1, max_streak)\n",
    "ax[1].set_xlabel('Streak Length')\n",
    "ax[1].legend(loc=\"upper left\")\n",
    "plt.show()\n",
    "print(f'Maximum length of winning or losing streak: {max_streak}')"
   ]
  },
  {
   "cell_type": "markdown",
   "metadata": {},
   "source": [
    "### Plot The Game Statistics Outcomes"
   ]
  },
  {
   "cell_type": "code",
   "execution_count": null,
   "metadata": {},
   "outputs": [],
   "source": [
    "red = redblack['red']\n",
    "black = redblack['black']\n",
    "other = redblack['other']"
   ]
  },
  {
   "cell_type": "code",
   "execution_count": null,
   "metadata": {},
   "outputs": [],
   "source": [
    "res = [red, black, other]\n",
    "assert np.sum(res) == num_games * num_spins\n",
    "labels = ['red', 'black', 'other']\n",
    "x = range(len(res))\n",
    "plt.bar(x, res, align='center')\n",
    "plt.xticks(x, labels)\n",
    "plt.show()"
   ]
  },
  {
   "cell_type": "code",
   "execution_count": null,
   "metadata": {},
   "outputs": [],
   "source": [
    "black"
   ]
  },
  {
   "cell_type": "code",
   "execution_count": null,
   "metadata": {},
   "outputs": [],
   "source": [
    "other"
   ]
  },
  {
   "cell_type": "code",
   "execution_count": null,
   "metadata": {},
   "outputs": [],
   "source": [
    "5**8"
   ]
  },
  {
   "cell_type": "markdown",
   "metadata": {},
   "source": [
    "### Plot The Frequencies Of Occurrence Of Each Number"
   ]
  },
  {
   "cell_type": "code",
   "execution_count": null,
   "metadata": {},
   "outputs": [],
   "source": [
    "sorted_numbers = sorted(freq.keys())\n",
    "values = [freq[n] for n in sorted_numbers]\n",
    "plt.bar(sorted_numbers, values, align='center')\n",
    "plt.show()"
   ]
  },
  {
   "cell_type": "code",
   "execution_count": null,
   "metadata": {},
   "outputs": [],
   "source": [
    "# geometric series\n",
    "a = min_bet\n",
    "r = 2\n",
    "n = 21 # Streak Length\n",
    "terms = [a * r ** (idx - 1) for idx in range(1, n)]\n",
    "x = range(1, n)\n",
    "plt.plot(x, terms, '-r')\n",
    "plt.show()"
   ]
  },
  {
   "cell_type": "code",
   "execution_count": null,
   "metadata": {},
   "outputs": [],
   "source": []
  }
 ],
 "metadata": {
  "kernelspec": {
   "display_name": "Python 3",
   "language": "python",
   "name": "python3"
  },
  "language_info": {
   "codemirror_mode": {
    "name": "ipython",
    "version": 3
   },
   "file_extension": ".py",
   "mimetype": "text/x-python",
   "name": "python",
   "nbconvert_exporter": "python",
   "pygments_lexer": "ipython3",
   "version": "3.6.8"
  }
 },
 "nbformat": 4,
 "nbformat_minor": 4
}
